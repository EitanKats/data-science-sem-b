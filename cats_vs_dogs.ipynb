{
 "cells": [
  {
   "cell_type": "code",
   "execution_count": 1,
   "metadata": {},
   "outputs": [],
   "source": [
    "import cv2\n",
    "import os\n",
    "import numpy as np\n",
    "import pandas as pd\n",
    "from sklearn.model_selection import GridSearchCV, train_test_split,RandomizedSearchCV\n",
    "from sklearn.neighbors import KNeighborsClassifier\n",
    "from sklearn.pipeline import Pipeline\n",
    "from sklearn.decomposition import PCA\n",
    "from sklearn.preprocessing import StandardScaler\n"
   ]
  },
  {
   "cell_type": "markdown",
   "metadata": {},
   "source": [
    "## Disclaimer\n",
    "<font size='3'>before loading the data I extracted the zip files that contain the data.</font>\n",
    "\n",
    "<font size='3'>the train data should be in the same directory as this notebook and in the `train` folder</font>"
   ]
  },
  {
   "cell_type": "markdown",
   "metadata": {},
   "source": [
    "# Processing colorful images\n",
    "<font size=\"4\">In this section I will try to process the images with colors but a resized version of each images.</font>"
   ]
  },
  {
   "cell_type": "code",
   "execution_count": null,
   "metadata": {},
   "outputs": [],
   "source": []
  },
  {
   "cell_type": "code",
   "execution_count": 2,
   "metadata": {},
   "outputs": [],
   "source": [
    "data = []\n",
    "label = []\n",
    "path = \"./train/\"\n",
    "IMG_SIZE = 32\n",
    "\n",
    "for file in os.listdir(path):\n",
    "    img=cv2.imread(path+file)\n",
    "    img=cv2.resize(img,(IMG_SIZE,IMG_SIZE),interpolation=cv2.INTER_AREA)\n",
    "    img=img.astype('float32')\n",
    "    img = img.ravel()\n",
    "#     img = img.reshape(-1,1024)\n",
    "    file_label = file.split('.')[0]\n",
    "    \n",
    "    if file_label == 'cat':\n",
    "        label.append(1)\n",
    "    else:\n",
    "        label.append(0)\n",
    "    data.append(img)\n",
    "data = np.array(data)"
   ]
  },
  {
   "cell_type": "code",
   "execution_count": 3,
   "metadata": {},
   "outputs": [
    {
     "data": {
      "text/plain": [
       "3072"
      ]
     },
     "execution_count": 3,
     "metadata": {},
     "output_type": "execute_result"
    }
   ],
   "source": [
    "len(data[1])"
   ]
  },
  {
   "cell_type": "code",
   "execution_count": 4,
   "metadata": {},
   "outputs": [],
   "source": [
    "x_train, x_test, y_train, y_test = train_test_split(data,label , test_size=0.1 ,random_state=21)\n"
   ]
  },
  {
   "cell_type": "code",
   "execution_count": 5,
   "metadata": {},
   "outputs": [],
   "source": [
    "from sklearn.neighbors import KNeighborsClassifier\n"
   ]
  },
  {
   "cell_type": "code",
   "execution_count": 6,
   "metadata": {},
   "outputs": [],
   "source": [
    "scaling_pipeline = Pipeline(\n",
    "    [\n",
    "        ('std_scaler', StandardScaler()),\n",
    "        ('pca',PCA(n_components=0.90, random_state=0,svd_solver='auto')),       \n",
    "    ]\n",
    ")\n",
    "\n",
    "x_train_scaled = scaling_pipeline.fit_transform(x_train)\n",
    "x_test_scaled = scaling_pipeline.transform(x_test)\n"
   ]
  },
  {
   "cell_type": "code",
   "execution_count": 7,
   "metadata": {},
   "outputs": [
    {
     "data": {
      "text/plain": [
       "0.6048"
      ]
     },
     "execution_count": 7,
     "metadata": {},
     "output_type": "execute_result"
    }
   ],
   "source": [
    "knn_cls = KNeighborsClassifier()\n",
    "knn_cls.fit(x_train_scaled,y_train)\n",
    "knn_cls.score(x_test_scaled,y_test)"
   ]
  },
  {
   "cell_type": "code",
   "execution_count": 8,
   "metadata": {},
   "outputs": [
    {
     "data": {
      "text/plain": [
       "RandomizedSearchCV(cv=3, estimator=KNeighborsClassifier(n_jobs=-1),\n",
       "                   param_distributions={'metric': ['euclidean', 'manhattan',\n",
       "                                                   'minkowski'],\n",
       "                                        'n_neighbors': [3, 13, 23, 33, 43, 53,\n",
       "                                                        63, 73, 83, 93],\n",
       "                                        'weights': ['uniform', 'distance']},\n",
       "                   random_state=0, return_train_score=True, scoring='accuracy')"
      ]
     },
     "execution_count": 8,
     "metadata": {},
     "output_type": "execute_result"
    }
   ],
   "source": [
    "knn_param_grid =     {\n",
    "     'n_neighbors': list(range(3,100,10)),\n",
    "     'weights':['uniform','distance'],\n",
    "     'metric': ['euclidean','manhattan','minkowski'],\n",
    "    }\n",
    "\n",
    "knn_grid_search = RandomizedSearchCV(\n",
    "    KNeighborsClassifier(n_jobs=-1),\n",
    "    knn_param_grid,\n",
    "    cv=3,\n",
    "    scoring='accuracy',\n",
    "    return_train_score=True,\n",
    "    random_state=0,\n",
    "    n_iter=15\n",
    ")\n",
    "knn_grid_search.fit(x_train_scaled,y_train)"
   ]
  },
  {
   "cell_type": "code",
   "execution_count": 9,
   "metadata": {},
   "outputs": [
    {
     "data": {
      "text/plain": [
       "KNeighborsClassifier(metric='euclidean', n_jobs=-1, n_neighbors=53,\n",
       "                     weights='distance')"
      ]
     },
     "execution_count": 9,
     "metadata": {},
     "output_type": "execute_result"
    }
   ],
   "source": [
    "knn_grid_search.best_estimator_"
   ]
  },
  {
   "cell_type": "code",
   "execution_count": 10,
   "metadata": {
    "scrolled": true
   },
   "outputs": [
    {
     "data": {
      "text/plain": [
       "0.6130222222222222"
      ]
     },
     "execution_count": 10,
     "metadata": {},
     "output_type": "execute_result"
    }
   ],
   "source": [
    "knn_grid_search.best_score_"
   ]
  },
  {
   "cell_type": "code",
   "execution_count": 11,
   "metadata": {},
   "outputs": [
    {
     "data": {
      "text/plain": [
       "0.6472"
      ]
     },
     "execution_count": 11,
     "metadata": {},
     "output_type": "execute_result"
    }
   ],
   "source": [
    "from sklearn.ensemble import RandomForestClassifier\n",
    "forest_clf = RandomForestClassifier(random_state=0,n_estimators=200, n_jobs=-1)\n",
    "\n",
    "\n",
    "forest_clf.fit(x_train_scaled,y_train)\n",
    "forest_clf.score(x_test_scaled,y_test)\n"
   ]
  },
  {
   "cell_type": "code",
   "execution_count": 12,
   "metadata": {},
   "outputs": [],
   "source": [
    "forest_params = {\n",
    "     'n_estimators': [100,200,400],\n",
    "     'max_depth':[None,30,100],\n",
    "     'max_features': ['auto','sqrt','log2'],\n",
    "     'random_state':[0]\n",
    "}"
   ]
  },
  {
   "cell_type": "code",
   "execution_count": 13,
   "metadata": {},
   "outputs": [
    {
     "data": {
      "text/plain": [
       "RandomizedSearchCV(cv=3, estimator=RandomForestClassifier(n_jobs=-1),\n",
       "                   param_distributions={'max_depth': [None, 30, 100],\n",
       "                                        'max_features': ['auto', 'sqrt',\n",
       "                                                         'log2'],\n",
       "                                        'n_estimators': [100, 200, 400],\n",
       "                                        'random_state': [0]},\n",
       "                   random_state=0, return_train_score=True, scoring='accuracy')"
      ]
     },
     "execution_count": 13,
     "metadata": {},
     "output_type": "execute_result"
    }
   ],
   "source": [
    "forest_grid_search = RandomizedSearchCV(\n",
    "    RandomForestClassifier(n_jobs=-1),\n",
    "    forest_params,\n",
    "    cv=3,\n",
    "    scoring='accuracy',\n",
    "    return_train_score=True,\n",
    "    random_state=0\n",
    ")\n",
    "\n",
    "forest_grid_search.fit(x_train_scaled,y_train)"
   ]
  },
  {
   "cell_type": "code",
   "execution_count": 27,
   "metadata": {},
   "outputs": [
    {
     "data": {
      "text/plain": [
       "0.6484"
      ]
     },
     "execution_count": 27,
     "metadata": {},
     "output_type": "execute_result"
    }
   ],
   "source": [
    "forest_grid_search.best_estimator_.score(x_test_scaled,y_test)"
   ]
  },
  {
   "cell_type": "code",
   "execution_count": 16,
   "metadata": {},
   "outputs": [
    {
     "data": {
      "text/plain": [
       "0.6252"
      ]
     },
     "execution_count": 16,
     "metadata": {},
     "output_type": "execute_result"
    }
   ],
   "source": [
    "from sklearn.ensemble import AdaBoostClassifier\n",
    "\n",
    "ada_b = AdaBoostClassifier(n_estimators=100, random_state=0)\n",
    "ada_b.fit(x_train_scaled,y_train)\n",
    "ada_b.score(x_test_scaled,y_test)"
   ]
  },
  {
   "cell_type": "code",
   "execution_count": 20,
   "metadata": {},
   "outputs": [],
   "source": [
    "ada_param_grid = {\n",
    "    \"learning_rate\": [0.1,0.4,1],\n",
    "    \"n_estimators\": [100,200,400,800]\n",
    " }"
   ]
  },
  {
   "cell_type": "code",
   "execution_count": 22,
   "metadata": {},
   "outputs": [
    {
     "data": {
      "text/plain": [
       "RandomizedSearchCV(cv=3, estimator=AdaBoostClassifier(random_state=0),\n",
       "                   n_jobs=-1,\n",
       "                   param_distributions={'learning_rate': [0.1, 0.4, 1],\n",
       "                                        'n_estimators': [100, 200, 400, 800]},\n",
       "                   random_state=0, return_train_score=True, scoring='accuracy')"
      ]
     },
     "execution_count": 22,
     "metadata": {},
     "output_type": "execute_result"
    }
   ],
   "source": [
    "ada_grid_search = RandomizedSearchCV(\n",
    "    AdaBoostClassifier(random_state=0),\n",
    "    ada_param_grid,\n",
    "    cv=3,\n",
    "    scoring='accuracy',\n",
    "    return_train_score=True,\n",
    "    random_state=0,\n",
    "    n_jobs=-1\n",
    ")\n",
    "\n",
    "ada_grid_search.fit(x_train_scaled,y_train)"
   ]
  },
  {
   "cell_type": "code",
   "execution_count": 23,
   "metadata": {
    "scrolled": true
   },
   "outputs": [
    {
     "data": {
      "text/plain": [
       "0.6276"
      ]
     },
     "execution_count": 23,
     "metadata": {},
     "output_type": "execute_result"
    }
   ],
   "source": [
    "ada_grid_search.best_score_"
   ]
  },
  {
   "cell_type": "code",
   "execution_count": 25,
   "metadata": {},
   "outputs": [
    {
     "data": {
      "text/plain": [
       "0.6364"
      ]
     },
     "execution_count": 25,
     "metadata": {},
     "output_type": "execute_result"
    }
   ],
   "source": [
    "ada_grid_search.best_estimator_.score(x_test_scaled,y_test)"
   ]
  },
  {
   "cell_type": "code",
   "execution_count": 30,
   "metadata": {},
   "outputs": [
    {
     "data": {
      "text/plain": [
       "0.648"
      ]
     },
     "execution_count": 30,
     "metadata": {},
     "output_type": "execute_result"
    }
   ],
   "source": [
    "from sklearn.ensemble import StackingClassifier\n",
    "stacking_clf = StackingClassifier(estimators=[\n",
    "    ('ada', ada_grid_search.best_estimator_),\n",
    "    ('rf', forest_grid_search.best_estimator_)])\n",
    "\n",
    "stacking_clf.fit(x_train_scaled,y_train)\n",
    "\n",
    "stacking_clf.score(x_test_scaled,y_test)"
   ]
  },
  {
   "cell_type": "code",
   "execution_count": 31,
   "metadata": {},
   "outputs": [
    {
     "data": {
      "text/plain": [
       "0.6528"
      ]
     },
     "execution_count": 31,
     "metadata": {},
     "output_type": "execute_result"
    }
   ],
   "source": [
    "import xgboost as xgb\n",
    "from xgboost import XGBClassifier\n",
    "\n",
    "xgb_clf = XGBClassifier(n_jobs=-1, max_depth=6,gamma = 0,colsample_bytree = 0.8)\n",
    "\n",
    "xgb_clf.fit(x_train_scaled,y_train)\n",
    "xgb_clf.score(x_test_scaled,y_test)"
   ]
  },
  {
   "cell_type": "code",
   "execution_count": 32,
   "metadata": {},
   "outputs": [
    {
     "data": {
      "text/plain": [
       "RandomizedSearchCV(cv=3,\n",
       "                   estimator=XGBClassifier(base_score=None, booster=None,\n",
       "                                           colsample_bylevel=None,\n",
       "                                           colsample_bynode=None,\n",
       "                                           colsample_bytree=None, gamma=None,\n",
       "                                           gpu_id=None, importance_type='gain',\n",
       "                                           interaction_constraints=None,\n",
       "                                           learning_rate=None,\n",
       "                                           max_delta_step=None, max_depth=None,\n",
       "                                           min_child_weight=None, missing=nan,\n",
       "                                           monotone_constraints=None,\n",
       "                                           n_estimators=100,...None,\n",
       "                                           num_parallel_tree=None,\n",
       "                                           random_state=None, reg_alpha=None,\n",
       "                                           reg_lambda=None,\n",
       "                                           scale_pos_weight=None,\n",
       "                                           subsample=None, tree_method=None,\n",
       "                                           validate_parameters=None,\n",
       "                                           verbosity=None),\n",
       "                   n_jobs=-1,\n",
       "                   param_distributions={'colsample_bytree': [0.3, 0.7],\n",
       "                                        'learning_rate': [0.01, 0.05, 0.1],\n",
       "                                        'max_depth': [3, 6, 10],\n",
       "                                        'n_estimators': [100, 500, 1000]},\n",
       "                   random_state=0, scoring='accuracy')"
      ]
     },
     "execution_count": 32,
     "metadata": {},
     "output_type": "execute_result"
    }
   ],
   "source": [
    "xgb_params = {\n",
    "    'max_depth': [3,6,10],\n",
    "    'learning_rate': [0.01, 0.05, 0.1],\n",
    "    'n_estimators': [100, 500, 1000],\n",
    "    'colsample_bytree': [0.3, 0.7]\n",
    "}\n",
    "\n",
    "\n",
    "XGBGridsearch = RandomizedSearchCV(XGBClassifier(), xgb_params,scoring='accuracy',cv=3, random_state=0,n_jobs=-1)\n",
    "XGBGridsearch.fit(x_train_scaled,y_train)"
   ]
  },
  {
   "cell_type": "code",
   "execution_count": 33,
   "metadata": {},
   "outputs": [
    {
     "data": {
      "text/plain": [
       "XGBClassifier(base_score=0.5, booster='gbtree', colsample_bylevel=1,\n",
       "              colsample_bynode=1, colsample_bytree=0.7, gamma=0, gpu_id=-1,\n",
       "              importance_type='gain', interaction_constraints='',\n",
       "              learning_rate=0.1, max_delta_step=0, max_depth=10,\n",
       "              min_child_weight=1, missing=nan, monotone_constraints='()',\n",
       "              n_estimators=1000, n_jobs=0, num_parallel_tree=1, random_state=0,\n",
       "              reg_alpha=0, reg_lambda=1, scale_pos_weight=1, subsample=1,\n",
       "              tree_method='exact', validate_parameters=1, verbosity=None)"
      ]
     },
     "execution_count": 33,
     "metadata": {},
     "output_type": "execute_result"
    }
   ],
   "source": [
    "XGBGridsearch.best_estimator_"
   ]
  },
  {
   "cell_type": "code",
   "execution_count": 34,
   "metadata": {
    "scrolled": true
   },
   "outputs": [
    {
     "data": {
      "text/plain": [
       "0.6716000000000001"
      ]
     },
     "execution_count": 34,
     "metadata": {},
     "output_type": "execute_result"
    }
   ],
   "source": [
    "XGBGridsearch.best_score_"
   ]
  },
  {
   "cell_type": "code",
   "execution_count": 49,
   "metadata": {},
   "outputs": [
    {
     "data": {
      "text/plain": [
       "0.678"
      ]
     },
     "execution_count": 49,
     "metadata": {},
     "output_type": "execute_result"
    }
   ],
   "source": [
    "XGBGridsearch.best_estimator_.score(x_test_scaled,y_test)"
   ]
  },
  {
   "cell_type": "code",
   "execution_count": 35,
   "metadata": {},
   "outputs": [
    {
     "data": {
      "text/plain": [
       "0.6312"
      ]
     },
     "execution_count": 35,
     "metadata": {},
     "output_type": "execute_result"
    }
   ],
   "source": [
    "stacking_clf = StackingClassifier(estimators=[\n",
    "    ('ada', ada_grid_search.best_estimator_),\n",
    "    ('rf', forest_grid_search.best_estimator_)], final_estimator=XGBGridsearch.best_estimator_)\n",
    "\n",
    "stacking_clf.fit(x_train_scaled,y_train)\n",
    "\n",
    "stacking_clf.score(x_test_scaled,y_test)"
   ]
  },
  {
   "cell_type": "code",
   "execution_count": 44,
   "metadata": {},
   "outputs": [
    {
     "data": {
      "text/plain": [
       "BaggingClassifier(base_estimator=XGBClassifier(base_score=0.5, booster='gbtree',\n",
       "                                               colsample_bylevel=1,\n",
       "                                               colsample_bynode=1,\n",
       "                                               colsample_bytree=0.7, gamma=0,\n",
       "                                               gpu_id=-1,\n",
       "                                               importance_type='gain',\n",
       "                                               interaction_constraints='',\n",
       "                                               learning_rate=0.1,\n",
       "                                               max_delta_step=0, max_depth=10,\n",
       "                                               min_child_weight=1, missing=nan,\n",
       "                                               monotone_constraints='()',\n",
       "                                               n_estimators=1000, n_jobs=0,\n",
       "                                               num_parallel_tree=1,\n",
       "                                               random_state=0, reg_alpha=0,\n",
       "                                               reg_lambda=1, scale_pos_weight=1,\n",
       "                                               subsample=1, tree_method='exact',\n",
       "                                               validate_parameters=1,\n",
       "                                               verbosity=None),\n",
       "                  n_jobs=-1, random_state=0)"
      ]
     },
     "execution_count": 44,
     "metadata": {},
     "output_type": "execute_result"
    }
   ],
   "source": [
    "from sklearn.ensemble import BaggingClassifier\n",
    "\n",
    "\n",
    "bagging = BaggingClassifier(base_estimator=XGBGridsearch.best_estimator_,n_estimators=10, random_state=0,n_jobs=-1)\n",
    "bagging.fit(x_train_scaled,y_train)"
   ]
  },
  {
   "cell_type": "code",
   "execution_count": 45,
   "metadata": {
    "scrolled": false
   },
   "outputs": [
    {
     "data": {
      "text/plain": [
       "0.684"
      ]
     },
     "execution_count": 45,
     "metadata": {},
     "output_type": "execute_result"
    }
   ],
   "source": [
    "bagging.score(x_test_scaled,y_test)"
   ]
  },
  {
   "cell_type": "code",
   "execution_count": 50,
   "metadata": {},
   "outputs": [
    {
     "data": {
      "text/plain": [
       "GridSearchCV(cv=3,\n",
       "             estimator=BaggingClassifier(base_estimator=XGBClassifier(base_score=0.5,\n",
       "                                                                      booster='gbtree',\n",
       "                                                                      colsample_bylevel=1,\n",
       "                                                                      colsample_bynode=1,\n",
       "                                                                      colsample_bytree=0.7,\n",
       "                                                                      gamma=0,\n",
       "                                                                      gpu_id=-1,\n",
       "                                                                      importance_type='gain',\n",
       "                                                                      interaction_constraints='',\n",
       "                                                                      learning_rate=0.1,\n",
       "                                                                      max_delta_step=0,\n",
       "                                                                      max_depth=10,\n",
       "                                                                      min_child_weight=1,\n",
       "                                                                      missing=nan,\n",
       "                                                                      monotone_constraints='()',\n",
       "                                                                      n_estimators=1000,\n",
       "                                                                      n_jobs=0,\n",
       "                                                                      num_parallel_tree=1,\n",
       "                                                                      random_state=0,\n",
       "                                                                      reg_alpha=0,\n",
       "                                                                      reg_lambda=1,\n",
       "                                                                      scale_pos_weight=1,\n",
       "                                                                      subsample=1,\n",
       "                                                                      tree_method='exact',\n",
       "                                                                      validate_parameters=1,\n",
       "                                                                      verbosity=None),\n",
       "                                         n_jobs=-1, random_state=0),\n",
       "             param_grid={'n_estimators': [10, 50, 100]}, scoring='accuracy')"
      ]
     },
     "execution_count": 50,
     "metadata": {},
     "output_type": "execute_result"
    }
   ],
   "source": [
    "bagging_params = {\n",
    "    'n_estimators': [10, 50, 100],\n",
    "}\n",
    "\n",
    "\n",
    "bagging_grid = GridSearchCV(bagging, bagging_params,scoring='accuracy',cv=3)\n",
    "bagging_grid.fit(x_train_scaled,y_train)"
   ]
  },
  {
   "cell_type": "code",
   "execution_count": 52,
   "metadata": {},
   "outputs": [
    {
     "data": {
      "text/plain": [
       "BaggingClassifier(base_estimator=XGBClassifier(base_score=0.5, booster='gbtree',\n",
       "                                               colsample_bylevel=1,\n",
       "                                               colsample_bynode=1,\n",
       "                                               colsample_bytree=0.7, gamma=0,\n",
       "                                               gpu_id=-1,\n",
       "                                               importance_type='gain',\n",
       "                                               interaction_constraints='',\n",
       "                                               learning_rate=0.1,\n",
       "                                               max_delta_step=0, max_depth=10,\n",
       "                                               min_child_weight=1, missing=nan,\n",
       "                                               monotone_constraints='()',\n",
       "                                               n_estimators=1000, n_jobs=0,\n",
       "                                               num_parallel_tree=1,\n",
       "                                               random_state=0, reg_alpha=0,\n",
       "                                               reg_lambda=1, scale_pos_weight=1,\n",
       "                                               subsample=1, tree_method='exact',\n",
       "                                               validate_parameters=1,\n",
       "                                               verbosity=None),\n",
       "                  n_estimators=50, n_jobs=-1, random_state=0)"
      ]
     },
     "execution_count": 52,
     "metadata": {},
     "output_type": "execute_result"
    }
   ],
   "source": [
    "bagging_grid.best_estimator_"
   ]
  },
  {
   "cell_type": "code",
   "execution_count": 51,
   "metadata": {},
   "outputs": [
    {
     "data": {
      "text/plain": [
       "0.688"
      ]
     },
     "execution_count": 51,
     "metadata": {},
     "output_type": "execute_result"
    }
   ],
   "source": [
    "bagging_grid.best_estimator_.score(x_test_scaled,y_test)"
   ]
  },
  {
   "cell_type": "markdown",
   "metadata": {},
   "source": [
    "------------"
   ]
  },
  {
   "cell_type": "markdown",
   "metadata": {},
   "source": [
    "# Processing images in black and white"
   ]
  },
  {
   "cell_type": "markdown",
   "metadata": {},
   "source": [
    "<font size='4'>in this section I have decided to take the models that performed the best without the tunning so that I can check if I can acheive better results but in black and white.<font>"
   ]
  },
  {
   "cell_type": "code",
   "execution_count": null,
   "metadata": {},
   "outputs": [],
   "source": []
  },
  {
   "cell_type": "code",
   "execution_count": null,
   "metadata": {},
   "outputs": [],
   "source": []
  }
 ],
 "metadata": {
  "kernelspec": {
   "display_name": "Python 3",
   "language": "python",
   "name": "python3"
  },
  "language_info": {
   "codemirror_mode": {
    "name": "ipython",
    "version": 3
   },
   "file_extension": ".py",
   "mimetype": "text/x-python",
   "name": "python",
   "nbconvert_exporter": "python",
   "pygments_lexer": "ipython3",
   "version": "3.8.5"
  }
 },
 "nbformat": 4,
 "nbformat_minor": 4
}
